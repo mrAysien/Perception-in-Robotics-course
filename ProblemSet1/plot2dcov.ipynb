{
 "cells": [
  {
   "cell_type": "code",
   "execution_count": 2,
   "metadata": {},
   "outputs": [],
   "source": [
    "from scipy import linalg, array, dot, stats\n",
    "import numpy as np\n",
    "import math\n",
    "import matplotlib.pyplot as plt\n",
    "def plot2dcov(Mean=array([[0],[0]]), Cov=array([[1,0],[0,2]]), k=3, N=50, Title='First Gaussian distributions'):\n",
    "    A = linalg.cholesky(Cov,lower=True)\n",
    "    alpha = np.linspace(0, 2*math.pi, N)\n",
    "    x = np.zeros((N,2))\n",
    "    y = np.zeros((N,2))\n",
    "    fig, ax = plt.subplots(1,1,figsize=(5,5))\n",
    "    for i in range(N):\n",
    "        x[i,0] = k*math.cos(alpha[i])\n",
    "        x[i,1] = k*math.sin(alpha[i])\n",
    "        y[i,:] = dot(A, x[i,:]) + Mean.T\n",
    "    Title = Title + ' with k = ' + str(k)\n",
    "    plt.title(Title)\n",
    "    plt.plot(x[:,0],x[:,1], 'r--', y[:,0],y[:,1], 'b--')\n",
    "    ax.set_aspect('equal')\n",
    "    plt.grid(True)\n",
    "    plt.show()"
   ]
  }
 ],
 "metadata": {
  "kernelspec": {
   "display_name": "Python 3",
   "language": "python",
   "name": "python3"
  },
  "language_info": {
   "codemirror_mode": {
    "name": "ipython",
    "version": 3
   },
   "file_extension": ".py",
   "mimetype": "text/x-python",
   "name": "python",
   "nbconvert_exporter": "python",
   "pygments_lexer": "ipython3",
   "version": "3.7.4"
  }
 },
 "nbformat": 4,
 "nbformat_minor": 2
}
